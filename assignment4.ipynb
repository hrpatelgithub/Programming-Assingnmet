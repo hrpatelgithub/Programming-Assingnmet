{
 "cells": [
  {
   "cell_type": "raw",
   "id": "4e3dba88",
   "metadata": {},
   "source": [
    "1. What exactly is [ ]?\n",
    "Ans-1> [] is datatype of list"
   ]
  },
  {
   "cell_type": "raw",
   "id": "452a70e5",
   "metadata": {},
   "source": [
    "Ans-2 spam=[2, 4, 6, 8, 10]\n",
    "      spam[2]='hello'\n",
    "spam"
   ]
  },
  {
   "cell_type": "raw",
   "id": "f3d44fb9",
   "metadata": {},
   "source": [
    "ans-3>\n",
    "#The value of spam[int(int('3' * 2) / 11)] is 'd'"
   ]
  },
  {
   "cell_type": "raw",
   "id": "b4b277f3",
   "metadata": {},
   "source": [
    "ans-4>\n",
    "#The value of spam[-1] is 'd'\n"
   ]
  },
  {
   "cell_type": "raw",
   "id": "c9a7f0b4",
   "metadata": {},
   "source": [
    "ans-5>\n",
    "#The value of [:2] is ['a', 'b']."
   ]
  },
  {
   "cell_type": "raw",
   "id": "efb241f0",
   "metadata": {},
   "source": [
    "ans-6>\n",
    "#The value of bacon.index('cat') is 1."
   ]
  },
  {
   "cell_type": "raw",
   "id": "dd22c63a",
   "metadata": {},
   "source": [
    "ans-7>\n",
    "# Due to bacon.append(99) change is  [3.14, 'cat', 11, 'cat', True, 99]"
   ]
  },
  {
   "cell_type": "raw",
   "id": "5b2a7d02",
   "metadata": {},
   "source": [
    "ans-8>\n",
    "# Due to bacon.remove('cat') change is [3.14, 11, True, 99]\n"
   ]
  },
  {
   "cell_type": "raw",
   "id": "ea93ab90",
   "metadata": {},
   "source": [
    "ans-9>\n",
    "# The operator for list concatenation is + , while the operator for replication is *.\n",
    "When + appears between two lists, the expression will be evaluated as a new list that contains the elements from both lists.\n",
    "when *x appears use,the expression will be evaluated as a new list that contains the elements x times.\n",
    "#example of list concatenation:\n",
    "    l1=[1,2,3,4,5,6]\n",
    "    l2=[2,4,6,8,10]\n",
    "    l1+l2\n",
    "    output:[1, 2, 3, 4, 5, 6, 2, 4, 6, 8, 10]\n",
    "   \n",
    "#Example of list relpication\n",
    "    l1=[1,2,3,4,5,6]\n",
    "    l1*2\n",
    "    output:[1, 2, 3, 4, 5, 6, 1, 2, 3, 4, 5, 6]\n"
   ]
  },
  {
   "cell_type": "raw",
   "id": "6d9035c2",
   "metadata": {},
   "source": [
    "ans-10>\n",
    "#Append  add element to the end of list,while insert add element at particular index/position.\n",
    "#example of append:\n",
    "    bacon=[3.14, 'cat', 11, 'cat', True]\n",
    "    bacon.append('harsh')\n",
    "    bacon\n",
    "    OUTPUT:[3.14, 'cat', 11, 'cat', True, 'harsh']\n",
    "#Example os insert:\n",
    "    bacon=[3.14, 'cat', 11, 'cat', True]\n",
    "    bacon.insert(0,'Harsh',)\n",
    "    bacon\n",
    "    OUTPUT:['Harsh', 3.14, 'cat', 11, 'cat', True]"
   ]
  },
  {
   "cell_type": "raw",
   "id": "ed6fd41b",
   "metadata": {},
   "source": [
    "ans-11>\n",
    "#Two methods for removing items from a list\n",
    "    1.pop()\n",
    "    2.remove() \n",
    "    \n",
    "1.pop(): it is remove element of list by index number\n",
    "example:\n",
    "        bacon=['Harsh', 3.14, 'cat', 11, 'cat', True]\n",
    "        bacon.pop(2)\n",
    "        bacon\n",
    "       # output:['Harsh', 3.14, 11, 'cat', True]\n",
    "2.remove():it is remove element of list by value\n",
    "example:bacon=['Harsh', 3.14, 'cat', 11, 'cat', True]\n",
    "        bacon.remove(3.14)\n",
    "        bacon\n",
    "        #output:['Harsh', 'cat', 11, 'cat', True]"
   ]
  },
  {
   "cell_type": "raw",
   "id": "e474c134",
   "metadata": {},
   "source": [
    "ans-12>\n",
    "#Both list and string are ordered collection of elements except in list it can contain different data types."
   ]
  },
  {
   "cell_type": "raw",
   "id": "7536f41e",
   "metadata": {},
   "source": [
    "ans-13>\n",
    "#list are muteable but tuples are immuteable which means we can reassign,add,delete elements in list which we cannot do in tuples."
   ]
  },
  {
   "cell_type": "raw",
   "id": "362dac1d",
   "metadata": {},
   "source": [
    "ans-14>\n",
    "#tuple value that only contains the integer 42 is type as a=(42)"
   ]
  },
  {
   "cell_type": "raw",
   "id": "bebe5b91",
   "metadata": {},
   "source": [
    "ans-15>\n",
    "#a list value's tuple form\n",
    "a=[1,2,3,4,5,6]\n",
    "tuple(a)\n",
    "#a tuple value's list form\n",
    "b=(1,2,3)\n",
    "list(b)"
   ]
  },
  {
   "cell_type": "raw",
   "id": "710566a0",
   "metadata": {},
   "source": [
    "# ans-16>\n",
    "They contain references to list values"
   ]
  },
  {
   "cell_type": "raw",
   "id": "216fa8fa",
   "metadata": {},
   "source": [
    "Ans-17>\n",
    "The copy.copy() function will do a shallow copy of a list, \n",
    "The copy.deepcopy() function will do a deep copy of a list. only copy.deepcopy() will duplicate any lists inside the \n",
    "list"
   ]
  },
  {
   "cell_type": "code",
   "execution_count": null,
   "id": "222bd988",
   "metadata": {},
   "outputs": [],
   "source": []
  },
  {
   "cell_type": "code",
   "execution_count": null,
   "id": "d14f697f",
   "metadata": {},
   "outputs": [],
   "source": []
  }
 ],
 "metadata": {
  "kernelspec": {
   "display_name": "Python 3 (ipykernel)",
   "language": "python",
   "name": "python3"
  },
  "language_info": {
   "codemirror_mode": {
    "name": "ipython",
    "version": 3
   },
   "file_extension": ".py",
   "mimetype": "text/x-python",
   "name": "python",
   "nbconvert_exporter": "python",
   "pygments_lexer": "ipython3",
   "version": "3.9.13"
  }
 },
 "nbformat": 4,
 "nbformat_minor": 5
}
